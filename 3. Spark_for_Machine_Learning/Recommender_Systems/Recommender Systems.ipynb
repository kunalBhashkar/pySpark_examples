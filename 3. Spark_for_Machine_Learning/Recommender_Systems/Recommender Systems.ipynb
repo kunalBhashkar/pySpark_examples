{
 "cells": [
  {
   "cell_type": "markdown",
   "metadata": {},
   "source": [
    "### Recommender Systems"
   ]
  },
  {
   "cell_type": "code",
   "execution_count": 1,
   "metadata": {},
   "outputs": [],
   "source": [
    "import pandas as pd"
   ]
  },
  {
   "cell_type": "code",
   "execution_count": 2,
   "metadata": {},
   "outputs": [],
   "source": [
    "df = pd.read_csv('movielens_ratings.csv')"
   ]
  },
  {
   "cell_type": "code",
   "execution_count": 3,
   "metadata": {},
   "outputs": [
    {
     "data": {
      "text/html": [
       "<div>\n",
       "<style scoped>\n",
       "    .dataframe tbody tr th:only-of-type {\n",
       "        vertical-align: middle;\n",
       "    }\n",
       "\n",
       "    .dataframe tbody tr th {\n",
       "        vertical-align: top;\n",
       "    }\n",
       "\n",
       "    .dataframe thead th {\n",
       "        text-align: right;\n",
       "    }\n",
       "</style>\n",
       "<table border=\"1\" class=\"dataframe\">\n",
       "  <thead>\n",
       "    <tr style=\"text-align: right;\">\n",
       "      <th></th>\n",
       "      <th>count</th>\n",
       "      <th>mean</th>\n",
       "      <th>std</th>\n",
       "      <th>min</th>\n",
       "      <th>25%</th>\n",
       "      <th>50%</th>\n",
       "      <th>75%</th>\n",
       "      <th>max</th>\n",
       "    </tr>\n",
       "  </thead>\n",
       "  <tbody>\n",
       "    <tr>\n",
       "      <th>movieId</th>\n",
       "      <td>1501.0</td>\n",
       "      <td>49.405730</td>\n",
       "      <td>28.937034</td>\n",
       "      <td>0.0</td>\n",
       "      <td>24.0</td>\n",
       "      <td>50.0</td>\n",
       "      <td>74.0</td>\n",
       "      <td>99.0</td>\n",
       "    </tr>\n",
       "    <tr>\n",
       "      <th>rating</th>\n",
       "      <td>1501.0</td>\n",
       "      <td>1.774151</td>\n",
       "      <td>1.187276</td>\n",
       "      <td>1.0</td>\n",
       "      <td>1.0</td>\n",
       "      <td>1.0</td>\n",
       "      <td>2.0</td>\n",
       "      <td>5.0</td>\n",
       "    </tr>\n",
       "    <tr>\n",
       "      <th>userId</th>\n",
       "      <td>1501.0</td>\n",
       "      <td>14.383744</td>\n",
       "      <td>8.591040</td>\n",
       "      <td>0.0</td>\n",
       "      <td>7.0</td>\n",
       "      <td>14.0</td>\n",
       "      <td>22.0</td>\n",
       "      <td>29.0</td>\n",
       "    </tr>\n",
       "  </tbody>\n",
       "</table>\n",
       "</div>"
      ],
      "text/plain": [
       "          count       mean        std  min   25%   50%   75%   max\n",
       "movieId  1501.0  49.405730  28.937034  0.0  24.0  50.0  74.0  99.0\n",
       "rating   1501.0   1.774151   1.187276  1.0   1.0   1.0   2.0   5.0\n",
       "userId   1501.0  14.383744   8.591040  0.0   7.0  14.0  22.0  29.0"
      ]
     },
     "execution_count": 3,
     "metadata": {},
     "output_type": "execute_result"
    }
   ],
   "source": [
    "df.describe().transpose()"
   ]
  },
  {
   "cell_type": "code",
   "execution_count": 4,
   "metadata": {},
   "outputs": [
    {
     "data": {
      "text/html": [
       "<div>\n",
       "<style scoped>\n",
       "    .dataframe tbody tr th:only-of-type {\n",
       "        vertical-align: middle;\n",
       "    }\n",
       "\n",
       "    .dataframe tbody tr th {\n",
       "        vertical-align: top;\n",
       "    }\n",
       "\n",
       "    .dataframe thead th {\n",
       "        text-align: right;\n",
       "    }\n",
       "</style>\n",
       "<table border=\"1\" class=\"dataframe\">\n",
       "  <thead>\n",
       "    <tr style=\"text-align: right;\">\n",
       "      <th></th>\n",
       "      <th>movieId</th>\n",
       "      <th>rating</th>\n",
       "      <th>userId</th>\n",
       "    </tr>\n",
       "  </thead>\n",
       "  <tbody>\n",
       "    <tr>\n",
       "      <th>movieId</th>\n",
       "      <td>1.000000</td>\n",
       "      <td>0.036569</td>\n",
       "      <td>0.003267</td>\n",
       "    </tr>\n",
       "    <tr>\n",
       "      <th>rating</th>\n",
       "      <td>0.036569</td>\n",
       "      <td>1.000000</td>\n",
       "      <td>0.056411</td>\n",
       "    </tr>\n",
       "    <tr>\n",
       "      <th>userId</th>\n",
       "      <td>0.003267</td>\n",
       "      <td>0.056411</td>\n",
       "      <td>1.000000</td>\n",
       "    </tr>\n",
       "  </tbody>\n",
       "</table>\n",
       "</div>"
      ],
      "text/plain": [
       "          movieId    rating    userId\n",
       "movieId  1.000000  0.036569  0.003267\n",
       "rating   0.036569  1.000000  0.056411\n",
       "userId   0.003267  0.056411  1.000000"
      ]
     },
     "execution_count": 4,
     "metadata": {},
     "output_type": "execute_result"
    }
   ],
   "source": [
    "df.corr()"
   ]
  },
  {
   "cell_type": "code",
   "execution_count": 5,
   "metadata": {},
   "outputs": [],
   "source": [
    "import numpy as np\n",
    "df['mealskew'] = df['movieId'].apply(lambda id: np.nan if id > 31 else id)"
   ]
  },
  {
   "cell_type": "code",
   "execution_count": 6,
   "metadata": {},
   "outputs": [
    {
     "data": {
      "text/html": [
       "<div>\n",
       "<style scoped>\n",
       "    .dataframe tbody tr th:only-of-type {\n",
       "        vertical-align: middle;\n",
       "    }\n",
       "\n",
       "    .dataframe tbody tr th {\n",
       "        vertical-align: top;\n",
       "    }\n",
       "\n",
       "    .dataframe thead th {\n",
       "        text-align: right;\n",
       "    }\n",
       "</style>\n",
       "<table border=\"1\" class=\"dataframe\">\n",
       "  <thead>\n",
       "    <tr style=\"text-align: right;\">\n",
       "      <th></th>\n",
       "      <th>count</th>\n",
       "      <th>mean</th>\n",
       "      <th>std</th>\n",
       "      <th>min</th>\n",
       "      <th>25%</th>\n",
       "      <th>50%</th>\n",
       "      <th>75%</th>\n",
       "      <th>max</th>\n",
       "    </tr>\n",
       "  </thead>\n",
       "  <tbody>\n",
       "    <tr>\n",
       "      <th>movieId</th>\n",
       "      <td>1501.0</td>\n",
       "      <td>49.405730</td>\n",
       "      <td>28.937034</td>\n",
       "      <td>0.0</td>\n",
       "      <td>24.0</td>\n",
       "      <td>50.0</td>\n",
       "      <td>74.0</td>\n",
       "      <td>99.0</td>\n",
       "    </tr>\n",
       "    <tr>\n",
       "      <th>rating</th>\n",
       "      <td>1501.0</td>\n",
       "      <td>1.774151</td>\n",
       "      <td>1.187276</td>\n",
       "      <td>1.0</td>\n",
       "      <td>1.0</td>\n",
       "      <td>1.0</td>\n",
       "      <td>2.0</td>\n",
       "      <td>5.0</td>\n",
       "    </tr>\n",
       "    <tr>\n",
       "      <th>userId</th>\n",
       "      <td>1501.0</td>\n",
       "      <td>14.383744</td>\n",
       "      <td>8.591040</td>\n",
       "      <td>0.0</td>\n",
       "      <td>7.0</td>\n",
       "      <td>14.0</td>\n",
       "      <td>22.0</td>\n",
       "      <td>29.0</td>\n",
       "    </tr>\n",
       "    <tr>\n",
       "      <th>mealskew</th>\n",
       "      <td>486.0</td>\n",
       "      <td>15.502058</td>\n",
       "      <td>9.250634</td>\n",
       "      <td>0.0</td>\n",
       "      <td>7.0</td>\n",
       "      <td>15.0</td>\n",
       "      <td>23.0</td>\n",
       "      <td>31.0</td>\n",
       "    </tr>\n",
       "  </tbody>\n",
       "</table>\n",
       "</div>"
      ],
      "text/plain": [
       "           count       mean        std  min   25%   50%   75%   max\n",
       "movieId   1501.0  49.405730  28.937034  0.0  24.0  50.0  74.0  99.0\n",
       "rating    1501.0   1.774151   1.187276  1.0   1.0   1.0   2.0   5.0\n",
       "userId    1501.0  14.383744   8.591040  0.0   7.0  14.0  22.0  29.0\n",
       "mealskew   486.0  15.502058   9.250634  0.0   7.0  15.0  23.0  31.0"
      ]
     },
     "execution_count": 6,
     "metadata": {},
     "output_type": "execute_result"
    }
   ],
   "source": [
    "df.describe().transpose()"
   ]
  },
  {
   "cell_type": "code",
   "execution_count": 7,
   "metadata": {},
   "outputs": [],
   "source": [
    "mealmap = { 2. : \"Chicken Curry\",   \n",
    "           3. : \"Spicy Chicken Nuggest\",   \n",
    "           5. : \"Hamburger\",   \n",
    "           9. : \"Taco Surprise\",  \n",
    "           11. : \"Meatloaf\",  \n",
    "           12. : \"Ceaser Salad\",  \n",
    "           15. : \"BBQ Ribs\",  \n",
    "           17. : \"Sushi Plate\",  \n",
    "           19. : \"Cheesesteak Sandwhich\",  \n",
    "           21. : \"Lasagna\",  \n",
    "           23. : \"Orange Chicken\",\n",
    "           26. : \"Spicy Beef Plate\",  \n",
    "           27. : \"Salmon with Mashed Potatoes\",  \n",
    "           28. : \"Penne Tomatoe Pasta\",  \n",
    "           29. : \"Pork Sliders\",  \n",
    "           30. : \"Vietnamese Sandwich\",  \n",
    "           31. : \"Chicken Wrap\",  \n",
    "           np.nan: \"Cowboy Burger\",   \n",
    "           4. : \"Pretzels and Cheese Plate\",   \n",
    "           6. : \"Spicy Pork Sliders\",  \n",
    "           13. : \"Mandarin Chicken PLate\",  \n",
    "           14. : \"Kung Pao Chicken\",\n",
    "           16. : \"Fried Rice Plate\",  \n",
    "           8. : \"Chicken Chow Mein\",  \n",
    "           10. : \"Roasted Eggplant \",  \n",
    "           18. : \"Pepperoni Pizza\",  \n",
    "           22. : \"Pulled Pork Plate\",   \n",
    "           0. : \"Cheese Pizza\",   \n",
    "           1. : \"Burrito\",   \n",
    "           7. : \"Nachos\",  \n",
    "           24. : \"Chili\",  \n",
    "           20. : \"Southwest Salad\",  \n",
    "           25.: \"Roast Beef Sandwich\"}"
   ]
  },
  {
   "cell_type": "code",
   "execution_count": 8,
   "metadata": {},
   "outputs": [],
   "source": [
    "df['meal_name'] = df['mealskew'].map(mealmap)"
   ]
  },
  {
   "cell_type": "code",
   "execution_count": 9,
   "metadata": {},
   "outputs": [],
   "source": [
    "df.to_csv('Meal_Info.csv',index=False)"
   ]
  },
  {
   "cell_type": "code",
   "execution_count": 10,
   "metadata": {},
   "outputs": [],
   "source": [
    "from pyspark.sql import SparkSession"
   ]
  },
  {
   "cell_type": "code",
   "execution_count": 11,
   "metadata": {},
   "outputs": [],
   "source": [
    "spark = SparkSession.builder.appName('recconsulting').getOrCreate()"
   ]
  },
  {
   "cell_type": "code",
   "execution_count": 12,
   "metadata": {},
   "outputs": [],
   "source": [
    "from pyspark.ml.evaluation import RegressionEvaluator\n",
    "from pyspark.ml.recommendation import ALS"
   ]
  },
  {
   "cell_type": "code",
   "execution_count": 13,
   "metadata": {},
   "outputs": [],
   "source": [
    "data = spark.read.csv('Meal_Info.csv',inferSchema=True,header=True)"
   ]
  },
  {
   "cell_type": "code",
   "execution_count": 14,
   "metadata": {},
   "outputs": [],
   "source": [
    "(training, test) = data.randomSplit([0.8, 0.2])"
   ]
  },
  {
   "cell_type": "code",
   "execution_count": 16,
   "metadata": {},
   "outputs": [],
   "source": [
    "# Build the recommendation model using ALS on the training data\n",
    "als = ALS(maxIter=5, regParam=0.01, userCol=\"userId\", itemCol=\"movieId\", ratingCol=\"rating\",\n",
    "          coldStartStrategy=\"drop\")\n",
    "model = als.fit(training)"
   ]
  },
  {
   "cell_type": "code",
   "execution_count": 17,
   "metadata": {},
   "outputs": [
    {
     "name": "stdout",
     "output_type": "stream",
     "text": [
      "+-------+------+------+--------+-------------+----------+\n",
      "|movieId|rating|userId|mealskew|    meal_name|prediction|\n",
      "+-------+------+------+--------+-------------+----------+\n",
      "|     31|   4.0|    12|    31.0| Chicken Wrap|  1.543386|\n",
      "|     31|   1.0|    13|    31.0| Chicken Wrap| 1.4337338|\n",
      "|     31|   3.0|     8|    31.0| Chicken Wrap| 3.0498347|\n",
      "|     31|   2.0|    25|    31.0| Chicken Wrap|-0.8862498|\n",
      "|     31|   3.0|    14|    31.0| Chicken Wrap| 1.1693456|\n",
      "|     31|   1.0|    18|    31.0| Chicken Wrap| 2.2382712|\n",
      "|     85|   1.0|    26|    null|Cowboy Burger| 5.5169034|\n",
      "|     85|   1.0|    12|    null|Cowboy Burger| 2.0326931|\n",
      "|     85|   2.0|    20|    null|Cowboy Burger|-3.8783782|\n",
      "|     85|   5.0|     8|    null|Cowboy Burger|0.51454866|\n",
      "|     65|   1.0|    22|    null|Cowboy Burger| 4.1334677|\n",
      "|     65|   2.0|     3|    null|Cowboy Burger|-2.6421788|\n",
      "|     65|   1.0|    19|    null|Cowboy Burger| 1.7492521|\n",
      "|     53|   3.0|    13|    null|Cowboy Burger| 0.5710138|\n",
      "|     53|   1.0|     6|    null|Cowboy Burger| 3.1320353|\n",
      "|     53|   1.0|    25|    null|Cowboy Burger|-6.1225276|\n",
      "|     53|   3.0|    14|    null|Cowboy Burger|-2.1298294|\n",
      "|     78|   1.0|    13|    null|Cowboy Burger| 0.6635046|\n",
      "|     78|   1.0|    19|    null|Cowboy Burger| 1.0675963|\n",
      "|     78|   1.0|    17|    null|Cowboy Burger| 0.7079411|\n",
      "+-------+------+------+--------+-------------+----------+\n",
      "only showing top 20 rows\n",
      "\n",
      "Root-mean-square error = 2.313275887258305\n"
     ]
    }
   ],
   "source": [
    "# Evaluate the model by computing the RMSE on the test data\n",
    "predictions = model.transform(test)\n",
    "\n",
    "predictions.show()\n",
    "\n",
    "evaluator = RegressionEvaluator(metricName=\"rmse\", labelCol=\"rating\",predictionCol=\"prediction\")\n",
    "rmse = evaluator.evaluate(predictions)\n",
    "print(\"Root-mean-square error = \" + str(rmse))"
   ]
  }
 ],
 "metadata": {
  "anaconda-cloud": {},
  "kernelspec": {
   "display_name": "gputest",
   "language": "python",
   "name": "gputest"
  },
  "language_info": {
   "codemirror_mode": {
    "name": "ipython",
    "version": 3
   },
   "file_extension": ".py",
   "mimetype": "text/x-python",
   "name": "python",
   "nbconvert_exporter": "python",
   "pygments_lexer": "ipython3",
   "version": "3.7.5"
  }
 },
 "nbformat": 4,
 "nbformat_minor": 1
}
